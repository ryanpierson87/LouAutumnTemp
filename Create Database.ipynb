{
 "cells": [
  {
   "cell_type": "code",
   "execution_count": 21,
   "metadata": {},
   "outputs": [],
   "source": [
    "import pandas as pd\n",
    "import sqlite3\n",
    "\n",
    "df = pd.read_csv('/Users/ryanpierson/Downloads/1502536.csv', low_memory=False)\n",
    "df['DATE'] = pd.to_datetime(df['DATE'])\n",
    "df['YEAR'], df['MONTH'], df['DAY'] = df['DATE'].dt.year, df['DATE'].dt.month, df['DATE'].dt.day\n",
    "#locations table\n",
    "df_loc = df[['STATION', 'NAME','LATITUDE', 'LONGITUDE', 'ELEVATION']].copy()\n",
    "df_loc.drop_duplicates(inplace=True)\n",
    "df_loc = df_loc[['STATION', 'NAME', 'LATITUDE', 'LONGITUDE', 'ELEVATION']].set_index('STATION')\n",
    "df_loc.to_sql('locations', conn)\n",
    "\n",
    "#weather table\n",
    "df_weather = df[['STATION', 'DATE', 'YEAR', 'MONTH', 'DAY','TMAX','TMIN']].copy()\n",
    "df_weather.to_sql('weather', conn)"
   ]
  },
  {
   "cell_type": "code",
   "execution_count": 36,
   "metadata": {},
   "outputs": [],
   "source": [
    "import sqlite3\n",
    "\n",
    "conn = sqlite3.connect('weather.db')\n",
    "\n",
    "df_loc.to_sql('locations', conn)"
   ]
  },
  {
   "cell_type": "code",
   "execution_count": 148,
   "metadata": {},
   "outputs": [],
   "source": [
    "df['YEAR'], df['MONTH'], df['DAY'] = df['DATE'].dt.year, df['DATE'].dt.month, df['DATE'].dt.day"
   ]
  },
  {
   "cell_type": "code",
   "execution_count": 153,
   "metadata": {},
   "outputs": [
    {
     "data": {
      "text/plain": [
       "<sqlite3.Cursor at 0x10cbcd8f0>"
      ]
     },
     "execution_count": 153,
     "metadata": {},
     "output_type": "execute_result"
    }
   ],
   "source": [
    "conn.execute('DROP table weather')"
   ]
  },
  {
   "cell_type": "code",
   "execution_count": 141,
   "metadata": {},
   "outputs": [],
   "source": [
    "df['DATE'] = pd.to_datetime(df['DATE'])"
   ]
  }
 ],
 "metadata": {
  "kernelspec": {
   "display_name": "Python 3",
   "language": "python",
   "name": "python3"
  },
  "language_info": {
   "codemirror_mode": {
    "name": "ipython",
    "version": 3
   },
   "file_extension": ".py",
   "mimetype": "text/x-python",
   "name": "python",
   "nbconvert_exporter": "python",
   "pygments_lexer": "ipython3",
   "version": "3.6.6"
  }
 },
 "nbformat": 4,
 "nbformat_minor": 2
}
